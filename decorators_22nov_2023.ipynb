{
 "cells": [
  {
   "cell_type": "markdown",
   "id": "83adf157",
   "metadata": {},
   "source": [
    "# Decorators\n",
    "* Python decoratos are powerful and versatile tool that allow you to modify the behaviour of fuynctions and methods. They are a way to extend the functionality of a function or method without modifying its source code.\n",
    "* A decorator is a function as an argument and returns a new function that modifies the behavior of the original function. The new function is often referred to as \"Decorators\" functions. The basic syntax for using a decorator is the following:\n",
    "    @decorator_function\n",
    "    def my_function():\n",
    "    pass\n",
    "    \n",
    "* The @decorator_function notation is just a shorthand for the following code:\n",
    "    def my_function():\n",
    "    pass\n",
    "    my_funtion = decorator_function(my_function)\n",
    "    \n",
    "* Decorators are often used to add functionality to functions and methods, such as logging, memorization, and access control.\n",
    "\n",
    "## Partial use case\n",
    "\n",
    "* One common use for decorators is to add logging to a function. for example, you could use an argument and return value of a function each time it is called:\n"
   ]
  },
  {
   "cell_type": "code",
   "execution_count": 1,
   "id": "12055e53",
   "metadata": {},
   "outputs": [],
   "source": [
    "import logging\n",
    "\n",
    "def log_function_call(func):\n",
    "    def decorated(*args, **kwargs):\n",
    "        logging.info(f\"calling {func.__name__} with args = {args}, kwargs = {kwargs}\")\n",
    "        result = func(*args, **kwargs)\n",
    "        logging.info(f\"calling {func.__name__} returned {result}\")\n",
    "        return result\n",
    "    return decorated\n",
    "\n",
    "        "
   ]
  },
  {
   "cell_type": "code",
   "execution_count": 2,
   "id": "6994372f",
   "metadata": {},
   "outputs": [],
   "source": [
    "@log_function_call\n",
    "def my_function(a,b):\n",
    "    return a + b"
   ]
  },
  {
   "cell_type": "markdown",
   "id": "a8b55c82",
   "metadata": {},
   "source": [
    "* In this example, the log_function_call decorator takes a function as an argument and returns a new function that logs the function call before and after the original function is called."
   ]
  },
  {
   "cell_type": "markdown",
   "id": "9f798345",
   "metadata": {},
   "source": [
    "## Conclusion:\n",
    "* Decorators are a powerful and flexible feature in the python that can be used to add functionality to functions and methods without modifying their source code. They are a great tool for separating concerns, reducing code duplication and making your code more readable and maintainable.\n",
    "\n",
    "\n",
    "### Example:\n"
   ]
  },
  {
   "cell_type": "code",
   "execution_count": 45,
   "id": "6b1bb046",
   "metadata": {},
   "outputs": [],
   "source": [
    "def greet(fx):\n",
    "    def mfx():\n",
    "        print(\"Good Morning\")\n",
    "        fx()\n",
    "        print(\"Thanks for using this function.\")\n",
    "    return mfx"
   ]
  },
  {
   "cell_type": "code",
   "execution_count": null,
   "id": "0c030ee2",
   "metadata": {},
   "outputs": [],
   "source": []
  },
  {
   "cell_type": "code",
   "execution_count": 46,
   "id": "6cef90da",
   "metadata": {},
   "outputs": [],
   "source": [
    "@greet\n",
    "def hello():\n",
    "    print('Hello world')\n",
    "    "
   ]
  },
  {
   "cell_type": "code",
   "execution_count": 47,
   "id": "db9333e9",
   "metadata": {},
   "outputs": [
    {
     "name": "stdout",
     "output_type": "stream",
     "text": [
      "Good Morning\n",
      "Hello world\n",
      "Thanks for using this function.\n"
     ]
    }
   ],
   "source": [
    "hello()"
   ]
  },
  {
   "cell_type": "code",
   "execution_count": null,
   "id": "251f3b10",
   "metadata": {},
   "outputs": [],
   "source": []
  },
  {
   "cell_type": "code",
   "execution_count": null,
   "id": "516eded0",
   "metadata": {},
   "outputs": [],
   "source": []
  },
  {
   "cell_type": "code",
   "execution_count": null,
   "id": "f7d16683",
   "metadata": {},
   "outputs": [],
   "source": []
  },
  {
   "cell_type": "code",
   "execution_count": null,
   "id": "891e9034",
   "metadata": {},
   "outputs": [],
   "source": []
  }
 ],
 "metadata": {
  "kernelspec": {
   "display_name": "Python 3 (ipykernel)",
   "language": "python",
   "name": "python3"
  },
  "language_info": {
   "codemirror_mode": {
    "name": "ipython",
    "version": 3
   },
   "file_extension": ".py",
   "mimetype": "text/x-python",
   "name": "python",
   "nbconvert_exporter": "python",
   "pygments_lexer": "ipython3",
   "version": "3.11.5"
  }
 },
 "nbformat": 4,
 "nbformat_minor": 5
}
