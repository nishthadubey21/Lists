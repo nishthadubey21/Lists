{
 "cells": [
  {
   "cell_type": "markdown",
   "id": "fdeb99a2",
   "metadata": {},
   "source": [
    "# Lists (DataType)\n",
    "\n",
    "* Lists are collection and they are hreterogeneous.\n",
    "* i.e. they can store multiple items from different data types/classes.\n",
    "* Lists are denoted by [] , It enclosed in square braces.\n",
    "* Empty List = [  ]\n",
    "* We seperate elements by ,\n",
    "* Lists are order and sequencial.\n",
    "* Lists are indexable and slicable.\n",
    "* Lists are mutable i.e. changes happen in same memory location.\n",
    "* Lists are dynamic.\n",
    "\n",
    "\n",
    "### Indexing and Slicing in Lists\n"
   ]
  },
  {
   "cell_type": "code",
   "execution_count": 16,
   "id": "5c5e4c6a",
   "metadata": {},
   "outputs": [
    {
     "name": "stdout",
     "output_type": "stream",
     "text": [
      "abc male\n",
      "['abc', 34, True, 40, 'male']\n",
      "['male', 40, True, 34, 'abc']\n",
      "['apple', 'banana', 'cherry']\n",
      "<class 'list'>\n",
      "4509763136\n",
      "['abc', 34, True, 40, 'male']\n",
      "<class 'list'>\n",
      "4509861696\n"
     ]
    }
   ],
   "source": [
    "#Example\n",
    "list1 = [\"apple\", \"banana\", \"cherry\"] \n",
    "list2 = [\"abc\", 34, True, 40, \"male\"]\n",
    "print(list2[0], list2[-1]) #indexing\n",
    "print(list2[::], list2[::-1], sep ='\\n') #slicing\n",
    "\n",
    "print(list1, type(list1), id(list1), sep ='\\n')\n",
    "print(list2, type(list2), id(list2), sep ='\\n')"
   ]
  },
  {
   "cell_type": "markdown",
   "id": "ce76628e",
   "metadata": {},
   "source": [
    "### Empty List"
   ]
  },
  {
   "cell_type": "code",
   "execution_count": 5,
   "id": "e153abaa",
   "metadata": {},
   "outputs": [
    {
     "name": "stdout",
     "output_type": "stream",
     "text": [
      "[]\n",
      "<class 'list'>\n",
      "0\n",
      "4509873408\n",
      "0\n"
     ]
    }
   ],
   "source": [
    "a = [ ]\n",
    "print(a, type(a), len(a), id(a), len(a), sep='\\n') #length of empty string is zero"
   ]
  },
  {
   "cell_type": "markdown",
   "id": "0786b3dc",
   "metadata": {},
   "source": [
    "#### Creating List by list()"
   ]
  },
  {
   "cell_type": "code",
   "execution_count": 6,
   "id": "71164ee4",
   "metadata": {},
   "outputs": [
    {
     "name": "stdout",
     "output_type": "stream",
     "text": [
      "[]\n",
      "0\n",
      "0x10ccdaf80\n"
     ]
    }
   ],
   "source": [
    "l = list()\n",
    "print(l, len(l), hex(id(l)), sep='\\n')"
   ]
  },
  {
   "cell_type": "code",
   "execution_count": 7,
   "id": "bdb17d24",
   "metadata": {},
   "outputs": [
    {
     "name": "stdout",
     "output_type": "stream",
     "text": [
      "['Python']\n",
      "1\n",
      "0x10cce9640\n"
     ]
    }
   ],
   "source": [
    "l = ['Python']\n",
    "print(l, len(l), hex(id(l)), sep='\\n')"
   ]
  },
  {
   "cell_type": "code",
   "execution_count": 8,
   "id": "2bc92f45",
   "metadata": {},
   "outputs": [
    {
     "name": "stdout",
     "output_type": "stream",
     "text": [
      "['P', 'y', 't', 'h', 'o', 'n']\n",
      "6\n",
      "0x10ccdb940\n"
     ]
    }
   ],
   "source": [
    "l = list('Python')\n",
    "print(l, len(l), hex(id(l)), sep='\\n') #takes individual element in the string."
   ]
  },
  {
   "cell_type": "code",
   "execution_count": 10,
   "id": "dc307b1c",
   "metadata": {},
   "outputs": [
    {
     "name": "stdout",
     "output_type": "stream",
     "text": [
      "[40, 10, 20, 30]\n",
      "<class 'list'>\n",
      "4\n",
      "0x10cce9140\n"
     ]
    }
   ],
   "source": [
    "l = list({10, 20, 30, 40})\n",
    "print(l,type(l), len(l), hex(id(l)), sep='\\n')"
   ]
  },
  {
   "cell_type": "code",
   "execution_count": 11,
   "id": "7ce8dcff",
   "metadata": {},
   "outputs": [
    {
     "data": {
      "text/plain": [
       "['h', 'e', 'l', 'l', 'o', ' ', 'p', 'y', 't', 'h', 'o', 'n']"
      ]
     },
     "execution_count": 11,
     "metadata": {},
     "output_type": "execute_result"
    }
   ],
   "source": [
    "x = 'hello python'\n",
    "list(x) # takes each individually"
   ]
  },
  {
   "cell_type": "code",
   "execution_count": 12,
   "id": "39ded9dd",
   "metadata": {},
   "outputs": [
    {
     "data": {
      "text/plain": [
       "{' ', 'e', 'h', 'l', 'n', 'o', 'p', 't', 'y'}"
      ]
     },
     "execution_count": 12,
     "metadata": {},
     "output_type": "execute_result"
    }
   ],
   "source": [
    "set(list(x)) #takes unique elements only"
   ]
  },
  {
   "cell_type": "markdown",
   "id": "89249eaa",
   "metadata": {},
   "source": [
    "### Nested List\n",
    "* List within a list is called nested list."
   ]
  },
  {
   "cell_type": "code",
   "execution_count": 13,
   "id": "fdcd4010",
   "metadata": {},
   "outputs": [
    {
     "name": "stdout",
     "output_type": "stream",
     "text": [
      "[1, 2, 3, [1, 4, 9]]\n",
      "<class 'list'>\n",
      "4\n",
      "0x10a02e0c0\n"
     ]
    }
   ],
   "source": [
    "l = [1,2,3,[1,4,9]]\n",
    "print(l, type(l), len(l), hex(id(l)), sep='\\n')\n"
   ]
  },
  {
   "cell_type": "code",
   "execution_count": 14,
   "id": "6091243c",
   "metadata": {},
   "outputs": [
    {
     "data": {
      "text/plain": [
       "[1, 4, 9]"
      ]
     },
     "execution_count": 14,
     "metadata": {},
     "output_type": "execute_result"
    }
   ],
   "source": [
    "l[3] #3rd index of list l"
   ]
  },
  {
   "cell_type": "code",
   "execution_count": 15,
   "id": "df72b5c6",
   "metadata": {},
   "outputs": [
    {
     "data": {
      "text/plain": [
       "9"
      ]
     },
     "execution_count": 15,
     "metadata": {},
     "output_type": "execute_result"
    }
   ],
   "source": [
    "l[3][2] # inner list element index of 2"
   ]
  },
  {
   "cell_type": "markdown",
   "id": "c60834c6",
   "metadata": {},
   "source": [
    "## Range\n",
    " * Range populates the numbers within the given range.\n",
    " * Syntex: range(start, end, step)\n",
    "    * from starting point till end, it does not include end point.\n",
    " * Default values of starting is zero and step is +1."
   ]
  },
  {
   "cell_type": "code",
   "execution_count": 19,
   "id": "ed5f6695",
   "metadata": {},
   "outputs": [
    {
     "name": "stdout",
     "output_type": "stream",
     "text": [
      "range(1, 21)\n",
      "<class 'range'>\n",
      "20\n",
      "0x10a148e40\n"
     ]
    }
   ],
   "source": [
    "r = range(1,21)\n",
    "print(r, type(r), len(r), hex(id(r)), sep='\\n')\n"
   ]
  },
  {
   "cell_type": "code",
   "execution_count": 21,
   "id": "c4fec025",
   "metadata": {},
   "outputs": [
    {
     "name": "stdout",
     "output_type": "stream",
     "text": [
      "[20, 19, 18, 17, 16, 15, 14, 13, 12, 11, 10, 9, 8, 7, 6, 5, 4, 3, 2, 1]\n",
      "<class 'range'>\n",
      "20\n",
      "0x10a1494d0\n"
     ]
    }
   ],
   "source": [
    "r = range(20,0,-1)\n",
    "print(list(r), type(r), len(r), hex(id(r)), sep='\\n')\n",
    "# included numbers from 20 to 1 backwards , didnt include 0 , step was -1 so it is in decreasing order."
   ]
  },
  {
   "cell_type": "code",
   "execution_count": 22,
   "id": "ca49e450",
   "metadata": {},
   "outputs": [
    {
     "data": {
      "text/plain": [
       "range(0, 5)"
      ]
     },
     "execution_count": 22,
     "metadata": {},
     "output_type": "execute_result"
    }
   ],
   "source": [
    "range(5) #if we mention only 1 number so range takes it as end point and starts it from 0."
   ]
  },
  {
   "cell_type": "markdown",
   "id": "577a0e63",
   "metadata": {},
   "source": [
    "## List Methods\n",
    "* append\n",
    "* clear\n",
    "* copy\n",
    "* count\n",
    "* extend\n",
    "* index\n",
    "* insert\n",
    "* pop\n",
    "* remove\n",
    "* reverse\n",
    "* sort"
   ]
  },
  {
   "cell_type": "markdown",
   "id": "1fdd979f",
   "metadata": {},
   "source": [
    "### Append\n",
    "* It adds object to the end of the list.\n",
    "* Even after changing the list memory location does not change. therefore we say list is mutable."
   ]
  },
  {
   "cell_type": "code",
   "execution_count": 23,
   "id": "615f3a7e",
   "metadata": {},
   "outputs": [
    {
     "name": "stdout",
     "output_type": "stream",
     "text": [
      "[]\n",
      "<class 'list'>\n",
      "0\n",
      "0x10cce3280\n"
     ]
    }
   ],
   "source": [
    "# Example\n",
    "l = [ ]\n",
    "print(l, type(l), len(l), hex(id(l)), sep='\\n')"
   ]
  },
  {
   "cell_type": "code",
   "execution_count": 24,
   "id": "6dd7e5de",
   "metadata": {},
   "outputs": [
    {
     "name": "stdout",
     "output_type": "stream",
     "text": [
      "[[1, 2, 3]]\n",
      "<class 'list'>\n",
      "1\n",
      "0x10cce3280\n"
     ]
    }
   ],
   "source": [
    "l.append([1, 2, 3])\n",
    "print(l, type(l), len(l), hex(id(l)), sep='\\n')\n",
    "#here both lists have same location."
   ]
  },
  {
   "cell_type": "code",
   "execution_count": 25,
   "id": "d4ced60c",
   "metadata": {},
   "outputs": [
    {
     "name": "stdout",
     "output_type": "stream",
     "text": [
      "[[1, 2, 3], 100]\n",
      "<class 'list'>\n",
      "2\n",
      "0x10cce3280\n"
     ]
    }
   ],
   "source": [
    "l.append(100)\n",
    "print(l, type(l), len(l), hex(id(l)), sep='\\n')\n"
   ]
  },
  {
   "cell_type": "markdown",
   "id": "d2980616",
   "metadata": {},
   "source": [
    "### Extend \n"
   ]
  },
  {
   "cell_type": "code",
   "execution_count": 26,
   "id": "3c0d48a8",
   "metadata": {},
   "outputs": [
    {
     "name": "stdout",
     "output_type": "stream",
     "text": [
      "[[1, 2, 3], 100, 'p', 'y', 't', 'h', 'o', 'n']\n",
      "<class 'list'>\n",
      "8\n",
      "0x10cce3280\n"
     ]
    }
   ],
   "source": [
    "l.extend('python')\n",
    "print(l, type(l), len(l), hex(id(l)), sep='\\n')\n"
   ]
  },
  {
   "cell_type": "code",
   "execution_count": 27,
   "id": "d5a39f3b",
   "metadata": {},
   "outputs": [
    {
     "name": "stdout",
     "output_type": "stream",
     "text": [
      "[[1, 2, 3], 100, 'p', 'y', 't', 'h', 'o', 'n', 'xyz']\n",
      "<class 'list'>\n",
      "9\n",
      "0x10cce3280\n"
     ]
    }
   ],
   "source": [
    "l.append('xyz')\n",
    "print(l, type(l), len(l), hex(id(l)), sep='\\n')\n"
   ]
  },
  {
   "cell_type": "markdown",
   "id": "1a6144e9",
   "metadata": {},
   "source": [
    "### Count\n",
    "* Counts the occurance of an element."
   ]
  },
  {
   "cell_type": "code",
   "execution_count": 28,
   "id": "c94422cb",
   "metadata": {},
   "outputs": [
    {
     "data": {
      "text/plain": [
       "3"
      ]
     },
     "execution_count": 28,
     "metadata": {},
     "output_type": "execute_result"
    }
   ],
   "source": [
    "[1,2,3,4,1,2,3,5,6,1,2,7,5].count(2)"
   ]
  },
  {
   "cell_type": "markdown",
   "id": "09a08d34",
   "metadata": {},
   "source": [
    "### Insert\n",
    "* Inserts an element in the middle of a list.\n",
    "* Syntex : list.insert(place,char)"
   ]
  },
  {
   "cell_type": "code",
   "execution_count": 32,
   "id": "692309c6",
   "metadata": {},
   "outputs": [
    {
     "data": {
      "text/plain": [
       "[[1, 2, 3], 100, 'p', 'y', 't', 'h', 'o', 'n', 'xyz']"
      ]
     },
     "execution_count": 32,
     "metadata": {},
     "output_type": "execute_result"
    }
   ],
   "source": [
    "l"
   ]
  },
  {
   "cell_type": "code",
   "execution_count": 34,
   "id": "5b4ec60a",
   "metadata": {},
   "outputs": [
    {
     "data": {
      "text/plain": [
       "[[1, 2, 3], 70, 70, 100, 'p', 'y', 't', 'h', 'o', 'n', 'xyz']"
      ]
     },
     "execution_count": 34,
     "metadata": {},
     "output_type": "execute_result"
    }
   ],
   "source": [
    "l.insert(1,70)\n",
    "l\n",
    "# works for positive nd negative index"
   ]
  },
  {
   "cell_type": "code",
   "execution_count": 35,
   "id": "e8c26596",
   "metadata": {},
   "outputs": [
    {
     "data": {
      "text/plain": [
       "[[1, 2, 3], 70, 70, 100, 'p', 'y', 't', 'h', 15, 'o', 'n', 'xyz']"
      ]
     },
     "execution_count": 35,
     "metadata": {},
     "output_type": "execute_result"
    }
   ],
   "source": [
    "l.insert(-3,15)\n",
    "l"
   ]
  },
  {
   "cell_type": "markdown",
   "id": "c5fda4f6",
   "metadata": {},
   "source": [
    "### Remove\n",
    "* Removes given element's first occurance from left to right.\n",
    "* syntex: list.remove('a')"
   ]
  },
  {
   "cell_type": "code",
   "execution_count": 36,
   "id": "2b947b34",
   "metadata": {},
   "outputs": [
    {
     "data": {
      "text/plain": [
       "['m', 'a', 'l', 'a', 'y', 'a', 'l', 'a', 'm']"
      ]
     },
     "execution_count": 36,
     "metadata": {},
     "output_type": "execute_result"
    }
   ],
   "source": [
    "x  = list('malayalam')\n",
    "x"
   ]
  },
  {
   "cell_type": "code",
   "execution_count": 37,
   "id": "dc81a61e",
   "metadata": {},
   "outputs": [
    {
     "data": {
      "text/plain": [
       "['m', 'l', 'a', 'y', 'a', 'l', 'a', 'm']"
      ]
     },
     "execution_count": 37,
     "metadata": {},
     "output_type": "execute_result"
    }
   ],
   "source": [
    "x.remove('a')\n",
    "x"
   ]
  },
  {
   "cell_type": "markdown",
   "id": "147a1b6f",
   "metadata": {},
   "source": [
    "### Pop\n",
    "* pop gives back the last value from the list by default and removes that value from the list if you print it after that.\n",
    "* list.pop()\n",
    "* If you mention the index number so it will give it back and remove kit from the list."
   ]
  },
  {
   "cell_type": "code",
   "execution_count": 38,
   "id": "f421e3d3",
   "metadata": {},
   "outputs": [
    {
     "data": {
      "text/plain": [
       "[[1, 2, 3], 70, 70, 100, 'p', 'y', 't', 'h', 15, 'o', 'n', 'xyz']"
      ]
     },
     "execution_count": 38,
     "metadata": {},
     "output_type": "execute_result"
    }
   ],
   "source": [
    "l\n"
   ]
  },
  {
   "cell_type": "code",
   "execution_count": 39,
   "id": "d65dafe3",
   "metadata": {},
   "outputs": [
    {
     "data": {
      "text/plain": [
       "'xyz'"
      ]
     },
     "execution_count": 39,
     "metadata": {},
     "output_type": "execute_result"
    }
   ],
   "source": [
    "l.pop() #bydefault"
   ]
  },
  {
   "cell_type": "code",
   "execution_count": 40,
   "id": "15e1115a",
   "metadata": {},
   "outputs": [
    {
     "data": {
      "text/plain": [
       "[[1, 2, 3], 70, 70, 100, 'p', 'y', 't', 'h', 15, 'o', 'n']"
      ]
     },
     "execution_count": 40,
     "metadata": {},
     "output_type": "execute_result"
    }
   ],
   "source": [
    "l"
   ]
  },
  {
   "cell_type": "code",
   "execution_count": 41,
   "id": "3eb0719a",
   "metadata": {},
   "outputs": [
    {
     "data": {
      "text/plain": [
       "[1, 2, 3]"
      ]
     },
     "execution_count": 41,
     "metadata": {},
     "output_type": "execute_result"
    }
   ],
   "source": [
    "l.pop(0) #index 0 is given"
   ]
  },
  {
   "cell_type": "code",
   "execution_count": 42,
   "id": "9e5a0e3e",
   "metadata": {},
   "outputs": [
    {
     "data": {
      "text/plain": [
       "[70, 70, 100, 'p', 'y', 't', 'h', 15, 'o', 'n']"
      ]
     },
     "execution_count": 42,
     "metadata": {},
     "output_type": "execute_result"
    }
   ],
   "source": [
    "l"
   ]
  },
  {
   "cell_type": "markdown",
   "id": "9293b422",
   "metadata": {},
   "source": [
    "### Sort\n",
    "* Sort gives the result of alphabetical list in alphabetical order and numerical list in ascending order by default.\n",
    "* If we mention in the code list.sort(reverse=True) then it gives numerical values.\n",
    "\n"
   ]
  },
  {
   "cell_type": "code",
   "execution_count": 5,
   "id": "e75a9225",
   "metadata": {},
   "outputs": [
    {
     "name": "stdout",
     "output_type": "stream",
     "text": [
      "[-34, 5, 19, 47, 56]\n",
      "['chhavi', 'kavi', 'mini', 'nimi', 'ravi']\n"
     ]
    }
   ],
   "source": [
    "l = [5, 56, -34, 19, 47]\n",
    "m = ['kavi', 'ravi', 'chhavi', 'nimi', 'mini']\n",
    "l.sort()\n",
    "m.sort()\n",
    "print(l, m, sep='\\n')"
   ]
  },
  {
   "cell_type": "code",
   "execution_count": 6,
   "id": "71495bc5",
   "metadata": {},
   "outputs": [
    {
     "data": {
      "text/plain": [
       "[-34, 5, 19, 47, 56]"
      ]
     },
     "execution_count": 6,
     "metadata": {},
     "output_type": "execute_result"
    }
   ],
   "source": [
    "#for descending order\n",
    "l"
   ]
  },
  {
   "cell_type": "code",
   "execution_count": 8,
   "id": "0386c371",
   "metadata": {},
   "outputs": [
    {
     "data": {
      "text/plain": [
       "[56, 47, 19, 5, -34]"
      ]
     },
     "execution_count": 8,
     "metadata": {},
     "output_type": "execute_result"
    }
   ],
   "source": [
    "l.sort(reverse= True)\n",
    "l"
   ]
  },
  {
   "cell_type": "markdown",
   "id": "2728b359",
   "metadata": {},
   "source": [
    "### Index\n",
    "* Returns the index of given char from the list.\n",
    "* for syntex list.index()"
   ]
  },
  {
   "cell_type": "code",
   "execution_count": 10,
   "id": "e5aed558",
   "metadata": {},
   "outputs": [
    {
     "data": {
      "text/plain": [
       "[56, 47, 19, 5, -34, 'chhavi', 'kavi', 'mini', 'nimi', 'ravi']"
      ]
     },
     "execution_count": 10,
     "metadata": {},
     "output_type": "execute_result"
    }
   ],
   "source": [
    "n = l+m\n",
    "n"
   ]
  },
  {
   "cell_type": "code",
   "execution_count": 13,
   "id": "05d832f2",
   "metadata": {},
   "outputs": [
    {
     "data": {
      "text/plain": [
       "8"
      ]
     },
     "execution_count": 13,
     "metadata": {},
     "output_type": "execute_result"
    }
   ],
   "source": [
    "n.index('nimi')"
   ]
  },
  {
   "cell_type": "markdown",
   "id": "f5223edc",
   "metadata": {},
   "source": [
    "### Reverse\n",
    "* Returns the reversed list.\n",
    "* syntex: list.reverse()"
   ]
  },
  {
   "cell_type": "code",
   "execution_count": 14,
   "id": "a4c9fb80",
   "metadata": {},
   "outputs": [
    {
     "data": {
      "text/plain": [
       "[56, 47, 19, 5, -34, 'chhavi', 'kavi', 'mini', 'nimi', 'ravi']"
      ]
     },
     "execution_count": 14,
     "metadata": {},
     "output_type": "execute_result"
    }
   ],
   "source": [
    "n"
   ]
  },
  {
   "cell_type": "code",
   "execution_count": 17,
   "id": "2097c9ae",
   "metadata": {},
   "outputs": [
    {
     "data": {
      "text/plain": [
       "['ravi', 'nimi', 'mini', 'kavi', 'chhavi', -34, 5, 19, 47, 56]"
      ]
     },
     "execution_count": 17,
     "metadata": {},
     "output_type": "execute_result"
    }
   ],
   "source": [
    "n.reverse()\n",
    "n"
   ]
  },
  {
   "cell_type": "markdown",
   "id": "455421a5",
   "metadata": {},
   "source": [
    "### Clear\n",
    "* It gives the cleared list i.e. empty list.\n",
    "* syntex: list.clear()"
   ]
  },
  {
   "cell_type": "code",
   "execution_count": 18,
   "id": "1a629870",
   "metadata": {},
   "outputs": [
    {
     "data": {
      "text/plain": [
       "['ravi', 'nimi', 'mini', 'kavi', 'chhavi', -34, 5, 19, 47, 56]"
      ]
     },
     "execution_count": 18,
     "metadata": {},
     "output_type": "execute_result"
    }
   ],
   "source": [
    "n"
   ]
  },
  {
   "cell_type": "code",
   "execution_count": 19,
   "id": "ee8fb402",
   "metadata": {},
   "outputs": [
    {
     "data": {
      "text/plain": [
       "[]"
      ]
     },
     "execution_count": 19,
     "metadata": {},
     "output_type": "execute_result"
    }
   ],
   "source": [
    "n.clear()\n",
    "n"
   ]
  },
  {
   "cell_type": "markdown",
   "id": "cda9a6be",
   "metadata": {},
   "source": [
    "### Copy\n",
    "* It copies the list with different memory location.\n",
    "* It fails with nested list."
   ]
  },
  {
   "cell_type": "code",
   "execution_count": 20,
   "id": "2555e4b3",
   "metadata": {},
   "outputs": [
    {
     "name": "stdout",
     "output_type": "stream",
     "text": [
      "[11, 22, 33] 0x107de5c80\n",
      "[11, 22, 33] 0x107de5c80\n",
      "[11, 22, 33, 44]\n",
      "0x101f1de98 0x101f1de98\n"
     ]
    }
   ],
   "source": [
    "x = [11, 22, 33]\n",
    "print(x, hex(id(x)))\n",
    "\n",
    "y = x\n",
    "print(y, hex(id(y)))\n",
    "\n",
    "x.append(44)\n",
    "print(y)\n",
    "print(hex(id(x[0])), hex(id(y[0])))"
   ]
  },
  {
   "cell_type": "code",
   "execution_count": 21,
   "id": "0abd3d49",
   "metadata": {},
   "outputs": [
    {
     "name": "stdout",
     "output_type": "stream",
     "text": [
      "[11, 22, 33, 44] 0x107e100c0\n",
      "0x101f1de98\n"
     ]
    }
   ],
   "source": [
    "z = x.copy()\n",
    "x.append(55)\n",
    "print(z, hex(id(z)))\n",
    "print(hex(id(z[0])))"
   ]
  },
  {
   "cell_type": "code",
   "execution_count": 22,
   "id": "a49f9684",
   "metadata": {},
   "outputs": [
    {
     "name": "stdout",
     "output_type": "stream",
     "text": [
      "[1, [4, 5, 6]] [4, 5, 6] 0x107de5a40 0x107de7580\n",
      "[1, [4, 5, 6]] [4, 5, 6] 0x107de4640 0x107de7580\n"
     ]
    }
   ],
   "source": [
    "a = [1, [4, 5 ,6]]\n",
    "print(a, a[1], hex(id(a)), hex(id(a[1])))\n",
    "b = a.copy()\n",
    "print(b, b[1], hex(id(b)), hex(id(b[1])))"
   ]
  },
  {
   "cell_type": "code",
   "execution_count": 23,
   "id": "b15c4781",
   "metadata": {},
   "outputs": [
    {
     "name": "stdout",
     "output_type": "stream",
     "text": [
      "[1, [4, 5, 6, 7]]\n",
      "[1, [4, 5, 6, 7]]\n"
     ]
    }
   ],
   "source": [
    "a[1].append(7)\n",
    "print(a)\n",
    "print(b)"
   ]
  },
  {
   "cell_type": "markdown",
   "id": "dd609fd6",
   "metadata": {},
   "source": [
    "#### In such cases where copy doesnt work or fails, we use deepcopy"
   ]
  },
  {
   "cell_type": "code",
   "execution_count": 27,
   "id": "9c181d47",
   "metadata": {},
   "outputs": [
    {
     "name": "stdout",
     "output_type": "stream",
     "text": [
      "[1, [4, 5, 6, 7, 7, 8]] 4426979904\n",
      "[1, [4, 5, 6, 7, 7]] 4427205376\n"
     ]
    }
   ],
   "source": [
    "import copy\n",
    "from copy import deepcopy\n",
    "b = deepcopy(a)\n",
    "a[1].append(8)\n",
    "print(a, id(a))\n",
    "print(b, id(b))"
   ]
  },
  {
   "cell_type": "markdown",
   "id": "8a1061ee",
   "metadata": {},
   "source": [
    "## Tuple Datatype\n",
    "* Tuples are used to store multiple items in a single variable.\n",
    "* A tuple is a collection which is ordered and unchangeable or immutable.\n",
    "* Tuples are written with round brackets.\n",
    "* Tuple items are ordered, unchangeable, and allow duplicate values."
   ]
  },
  {
   "cell_type": "code",
   "execution_count": 28,
   "id": "07c6059a",
   "metadata": {},
   "outputs": [
    {
     "name": "stdout",
     "output_type": "stream",
     "text": [
      "('abc', 34, True, 40, 'male')\n",
      "<class 'tuple'>\n",
      "4427144368\n"
     ]
    }
   ],
   "source": [
    "#A tuple can contain different data types:\n",
    "a = (\"abc\", 34, True, 40, \"male\")\n",
    "print(a, type(a), id(a), sep='\\n')"
   ]
  },
  {
   "cell_type": "markdown",
   "id": "c9f31743",
   "metadata": {},
   "source": [
    "## Methods of touple\n",
    "### Count\n",
    "* counts the no of occurance of the given value.\n",
    "* Syntex: touple.count()"
   ]
  },
  {
   "cell_type": "code",
   "execution_count": 29,
   "id": "ce68c3d4",
   "metadata": {},
   "outputs": [
    {
     "data": {
      "text/plain": [
       "3"
      ]
     },
     "execution_count": 29,
     "metadata": {},
     "output_type": "execute_result"
    }
   ],
   "source": [
    "a = (2, 3, 4 , 2, 1, 2, 5, 6)\n",
    "a.count(2)"
   ]
  },
  {
   "cell_type": "code",
   "execution_count": 30,
   "id": "0a24fa87",
   "metadata": {},
   "outputs": [
    {
     "data": {
      "text/plain": [
       "1"
      ]
     },
     "execution_count": 30,
     "metadata": {},
     "output_type": "execute_result"
    }
   ],
   "source": [
    "a.count(6)"
   ]
  },
  {
   "cell_type": "code",
   "execution_count": 32,
   "id": "32772c82",
   "metadata": {},
   "outputs": [
    {
     "data": {
      "text/plain": [
       "0"
      ]
     },
     "execution_count": 32,
     "metadata": {},
     "output_type": "execute_result"
    }
   ],
   "source": [
    "a.count(7) #gives 0 if not present."
   ]
  },
  {
   "cell_type": "markdown",
   "id": "e9e7bfba",
   "metadata": {},
   "source": [
    "### Index\n",
    "* Gives the index number of given char of touple.\n",
    "* syntex : touple.index()"
   ]
  },
  {
   "cell_type": "code",
   "execution_count": 33,
   "id": "1348ef1b",
   "metadata": {},
   "outputs": [
    {
     "data": {
      "text/plain": [
       "3"
      ]
     },
     "execution_count": 33,
     "metadata": {},
     "output_type": "execute_result"
    }
   ],
   "source": [
    "a = (\"abc\", 34, True, 40, \"male\")\n",
    "a.index(40)"
   ]
  },
  {
   "cell_type": "code",
   "execution_count": 34,
   "id": "be53040e",
   "metadata": {},
   "outputs": [
    {
     "data": {
      "text/plain": [
       "4"
      ]
     },
     "execution_count": 34,
     "metadata": {},
     "output_type": "execute_result"
    }
   ],
   "source": [
    "a.index(\"male\")"
   ]
  },
  {
   "cell_type": "code",
   "execution_count": null,
   "id": "2ab65e93",
   "metadata": {},
   "outputs": [],
   "source": []
  }
 ],
 "metadata": {
  "kernelspec": {
   "display_name": "Python 3 (ipykernel)",
   "language": "python",
   "name": "python3"
  },
  "language_info": {
   "codemirror_mode": {
    "name": "ipython",
    "version": 3
   },
   "file_extension": ".py",
   "mimetype": "text/x-python",
   "name": "python",
   "nbconvert_exporter": "python",
   "pygments_lexer": "ipython3",
   "version": "3.11.5"
  }
 },
 "nbformat": 4,
 "nbformat_minor": 5
}
